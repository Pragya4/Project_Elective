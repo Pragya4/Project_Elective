{
 "cells": [
  {
   "cell_type": "markdown",
   "metadata": {},
   "source": [
    "# Project Elective (IIIT-B)\n",
    "### Part 1 : This notebook deals with basics of cleaning and preprocessing data .\n",
    "\n",
    "\n",
    "#### Project mentor: Prof. Manish Gupta, Onkar Hoysala "
   ]
  },
  {
   "cell_type": "code",
   "execution_count": 1,
   "metadata": {},
   "outputs": [
    {
     "name": "stdout",
     "output_type": "stream",
     "text": [
      "Requirement already satisfied: pandas in /usr/local/Cellar/jupyterlab/2.2.8/libexec/lib/python3.8/site-packages (1.1.2)\n",
      "Requirement already satisfied: numpy>=1.15.4 in /usr/local/Cellar/jupyterlab/2.2.8/libexec/lib/python3.8/site-packages (from pandas) (1.19.2)\n",
      "Requirement already satisfied: pytz>=2017.2 in /usr/local/Cellar/jupyterlab/2.2.8/libexec/lib/python3.8/site-packages (from pandas) (2020.1)\n",
      "Requirement already satisfied: python-dateutil>=2.7.3 in /usr/local/Cellar/jupyterlab/2.2.8/libexec/lib/python3.8/site-packages (from pandas) (2.8.1)\n",
      "Requirement already satisfied: six>=1.5 in /usr/local/Cellar/jupyterlab/2.2.8/libexec/lib/python3.8/site-packages (from python-dateutil>=2.7.3->pandas) (1.15.0)\n",
      "Requirement already satisfied: sklearn in /usr/local/Cellar/jupyterlab/2.2.8/libexec/lib/python3.8/site-packages (0.0)\n",
      "Requirement already satisfied: scikit-learn in /usr/local/Cellar/jupyterlab/2.2.8/libexec/lib/python3.8/site-packages (from sklearn) (0.23.2)\n",
      "Requirement already satisfied: joblib>=0.11 in /usr/local/Cellar/jupyterlab/2.2.8/libexec/lib/python3.8/site-packages (from scikit-learn->sklearn) (0.17.0)\n",
      "Requirement already satisfied: numpy>=1.13.3 in /usr/local/Cellar/jupyterlab/2.2.8/libexec/lib/python3.8/site-packages (from scikit-learn->sklearn) (1.19.2)\n",
      "Requirement already satisfied: scipy>=0.19.1 in /usr/local/Cellar/jupyterlab/2.2.8/libexec/lib/python3.8/site-packages (from scikit-learn->sklearn) (1.5.2)\n",
      "Requirement already satisfied: threadpoolctl>=2.0.0 in /usr/local/Cellar/jupyterlab/2.2.8/libexec/lib/python3.8/site-packages (from scikit-learn->sklearn) (2.1.0)\n"
     ]
    }
   ],
   "source": [
    "\"\"\"In case of jupyter notebook , used this if there is no pre-existing environment\"\"\"\n",
    "import sys\n",
    "!{sys.executable} -m pip install pandas\n",
    "!{sys.executable} -m pip install sklearn"
   ]
  },
  {
   "cell_type": "code",
   "execution_count": 2,
   "metadata": {},
   "outputs": [],
   "source": [
    "import pandas as pd"
   ]
  },
  {
   "cell_type": "code",
   "execution_count": 3,
   "metadata": {},
   "outputs": [],
   "source": [
    "nptel_raw_data = pd.read_csv('nptel_final.csv')"
   ]
  },
  {
   "cell_type": "code",
   "execution_count": 4,
   "metadata": {},
   "outputs": [
    {
     "data": {
      "text/html": [
       "<div>\n",
       "<style scoped>\n",
       "    .dataframe tbody tr th:only-of-type {\n",
       "        vertical-align: middle;\n",
       "    }\n",
       "\n",
       "    .dataframe tbody tr th {\n",
       "        vertical-align: top;\n",
       "    }\n",
       "\n",
       "    .dataframe thead th {\n",
       "        text-align: right;\n",
       "    }\n",
       "</style>\n",
       "<table border=\"1\" class=\"dataframe\">\n",
       "  <thead>\n",
       "    <tr style=\"text-align: right;\">\n",
       "      <th></th>\n",
       "      <th>Unnamed: 0</th>\n",
       "      <th>title</th>\n",
       "      <th>coursename</th>\n",
       "      <th>categories</th>\n",
       "      <th>discipline</th>\n",
       "      <th>description</th>\n",
       "      <th>videoid</th>\n",
       "      <th>vtt_filename</th>\n",
       "      <th>vtt_Content</th>\n",
       "    </tr>\n",
       "  </thead>\n",
       "  <tbody>\n",
       "    <tr>\n",
       "      <th>0</th>\n",
       "      <td>0</td>\n",
       "      <td>Visual Design Methodology- 2_Generic Design</td>\n",
       "      <td>Visual Communication Design for Digital Media</td>\n",
       "      <td>['Education']</td>\n",
       "      <td>Architecture</td>\n",
       "      <td>In continuation with the previous lecture, thi...</td>\n",
       "      <td>DJHWcb5GDKo</td>\n",
       "      <td>nptel_orig_Design-DJHWcb5GDKo.en.vtt</td>\n",
       "      <td>Language: en welcome students to the online np...</td>\n",
       "    </tr>\n",
       "    <tr>\n",
       "      <th>1</th>\n",
       "      <td>1</td>\n",
       "      <td>Visual Design Methodology- 3_Animation</td>\n",
       "      <td>Visual Communication Design for Digital Media</td>\n",
       "      <td>['Education']</td>\n",
       "      <td>Architecture</td>\n",
       "      <td>The lecture demonstrates Visual Design methodo...</td>\n",
       "      <td>9obR8HGDW2w</td>\n",
       "      <td>nptel_orig__Animation-9obR8HGDW2w.en.vtt</td>\n",
       "      <td>Language: en hello students welcome to the n p...</td>\n",
       "    </tr>\n",
       "    <tr>\n",
       "      <th>2</th>\n",
       "      <td>2</td>\n",
       "      <td>Visual Design Methodology- 4_ web design</td>\n",
       "      <td>Visual Communication Design for Digital Media</td>\n",
       "      <td>['Education']</td>\n",
       "      <td>Architecture</td>\n",
       "      <td>The lecture demonstrates Visual Design methodo...</td>\n",
       "      <td>QVGQn_ngZxI</td>\n",
       "      <td>nptel_orig_Design-QVGQn_ngZxI.en.vtt</td>\n",
       "      <td>Language: en welcome stu ah students for the o...</td>\n",
       "    </tr>\n",
       "    <tr>\n",
       "      <th>3</th>\n",
       "      <td>3</td>\n",
       "      <td>Visual Design Methodology- 5_graphic-design</td>\n",
       "      <td>Visual Communication Design for Digital Media</td>\n",
       "      <td>['Education']</td>\n",
       "      <td>Architecture</td>\n",
       "      <td>The lecture demonstrates Visual Design methodo...</td>\n",
       "      <td>6yeKQ4TVUpI</td>\n",
       "      <td>nptel_orig__Graphic-Design-6yeKQ4TVUpI.en.vtt</td>\n",
       "      <td>Language: en welcome students to the online n ...</td>\n",
       "    </tr>\n",
       "    <tr>\n",
       "      <th>4</th>\n",
       "      <td>4</td>\n",
       "      <td>Case Studies of Visual Design on Digital Paradigm</td>\n",
       "      <td>Visual Communication Design for Digital Media</td>\n",
       "      <td>['Education']</td>\n",
       "      <td>Architecture</td>\n",
       "      <td>The lecture discusses some case studies in lig...</td>\n",
       "      <td>iWxlR3G14kY</td>\n",
       "      <td>nptel_orig_Paradigm-iWxlR3G14kY.en.vtt</td>\n",
       "      <td>Language: en welcome students to the online n ...</td>\n",
       "    </tr>\n",
       "    <tr>\n",
       "      <th>...</th>\n",
       "      <td>...</td>\n",
       "      <td>...</td>\n",
       "      <td>...</td>\n",
       "      <td>...</td>\n",
       "      <td>...</td>\n",
       "      <td>...</td>\n",
       "      <td>...</td>\n",
       "      <td>...</td>\n",
       "      <td>...</td>\n",
       "    </tr>\n",
       "    <tr>\n",
       "      <th>897</th>\n",
       "      <td>4134</td>\n",
       "      <td>Introduction of GPS</td>\n",
       "      <td>Digital Land Surveying And Mapping(DLS&amp;M)</td>\n",
       "      <td>['People &amp; Blogs']</td>\n",
       "      <td>[]</td>\n",
       "      <td>Introduction of GPS</td>\n",
       "      <td>r5oiv5Rbnuw</td>\n",
       "      <td>nptel_orig_GPS-r5oiv5Rbnuw.en.vtt</td>\n",
       "      <td>Language: en welcome students this is the four...</td>\n",
       "    </tr>\n",
       "    <tr>\n",
       "      <th>898</th>\n",
       "      <td>4135</td>\n",
       "      <td>GPS Signal (Civilian Perspective)</td>\n",
       "      <td>Digital Land Surveying And Mapping(DLS&amp;M)</td>\n",
       "      <td>['People &amp; Blogs']</td>\n",
       "      <td>[]</td>\n",
       "      <td>GPS Signal (Civilian Perspective)</td>\n",
       "      <td>biY4CZso0gs</td>\n",
       "      <td>nptel_orig_Perspective)-biY4CZso0gs.en.vtt</td>\n",
       "      <td>Language: en welcome students today is the fif...</td>\n",
       "    </tr>\n",
       "    <tr>\n",
       "      <th>899</th>\n",
       "      <td>4136</td>\n",
       "      <td>Introduction and Applications</td>\n",
       "      <td>Digital Land Surveying And Mapping(DLS&amp;M)</td>\n",
       "      <td>['People &amp; Blogs']</td>\n",
       "      <td>[]</td>\n",
       "      <td>Introduction and Applications</td>\n",
       "      <td>cAXa2Tc5sbk</td>\n",
       "      <td>nptel_orig_Applications-cAXa2Tc5sbk.en.vtt</td>\n",
       "      <td>Language: en welcome students this is the firs...</td>\n",
       "    </tr>\n",
       "    <tr>\n",
       "      <th>900</th>\n",
       "      <td>4137</td>\n",
       "      <td>Digital  Land Surveying and Mapping(DLS&amp;M)</td>\n",
       "      <td>Digital Land Surveying And Mapping(DLS&amp;M)</td>\n",
       "      <td>['People &amp; Blogs']</td>\n",
       "      <td>[]</td>\n",
       "      <td>Digital  Land Surveying and Mapping(DLS&amp;M)</td>\n",
       "      <td>1UlEtjO5SMw</td>\n",
       "      <td>nptel_orig_Mapping(DLS&amp;M)-1UlEtjO5SMw.en.vtt</td>\n",
       "      <td>Language: en\\nStyle:\\n::cue(c.colorCCCCCC) { c...</td>\n",
       "    </tr>\n",
       "    <tr>\n",
       "      <th>901</th>\n",
       "      <td>4277</td>\n",
       "      <td>Tutorial I</td>\n",
       "      <td>Sustainable Engineering Concepts And Life Cycl...</td>\n",
       "      <td>['People &amp; Blogs']</td>\n",
       "      <td>[]</td>\n",
       "      <td>Tutorial I</td>\n",
       "      <td>dPnDu2yh6fo</td>\n",
       "      <td>nptel_orig_I-dPnDu2yh6fo.en.vtt</td>\n",
       "      <td>Language: en\\nStyle:\\n::cue(c.colorCCCCCC) { c...</td>\n",
       "    </tr>\n",
       "  </tbody>\n",
       "</table>\n",
       "<p>902 rows × 9 columns</p>\n",
       "</div>"
      ],
      "text/plain": [
       "     Unnamed: 0                                              title  \\\n",
       "0             0        Visual Design Methodology- 2_Generic Design   \n",
       "1             1             Visual Design Methodology- 3_Animation   \n",
       "2             2           Visual Design Methodology- 4_ web design   \n",
       "3             3        Visual Design Methodology- 5_graphic-design   \n",
       "4             4  Case Studies of Visual Design on Digital Paradigm   \n",
       "..          ...                                                ...   \n",
       "897        4134                                Introduction of GPS   \n",
       "898        4135                  GPS Signal (Civilian Perspective)   \n",
       "899        4136                      Introduction and Applications   \n",
       "900        4137         Digital  Land Surveying and Mapping(DLS&M)   \n",
       "901        4277                                         Tutorial I   \n",
       "\n",
       "                                            coursename          categories  \\\n",
       "0        Visual Communication Design for Digital Media       ['Education']   \n",
       "1        Visual Communication Design for Digital Media       ['Education']   \n",
       "2        Visual Communication Design for Digital Media       ['Education']   \n",
       "3        Visual Communication Design for Digital Media       ['Education']   \n",
       "4        Visual Communication Design for Digital Media       ['Education']   \n",
       "..                                                 ...                 ...   \n",
       "897          Digital Land Surveying And Mapping(DLS&M)  ['People & Blogs']   \n",
       "898          Digital Land Surveying And Mapping(DLS&M)  ['People & Blogs']   \n",
       "899          Digital Land Surveying And Mapping(DLS&M)  ['People & Blogs']   \n",
       "900          Digital Land Surveying And Mapping(DLS&M)  ['People & Blogs']   \n",
       "901  Sustainable Engineering Concepts And Life Cycl...  ['People & Blogs']   \n",
       "\n",
       "       discipline                                        description  \\\n",
       "0    Architecture  In continuation with the previous lecture, thi...   \n",
       "1    Architecture  The lecture demonstrates Visual Design methodo...   \n",
       "2    Architecture  The lecture demonstrates Visual Design methodo...   \n",
       "3    Architecture  The lecture demonstrates Visual Design methodo...   \n",
       "4    Architecture  The lecture discusses some case studies in lig...   \n",
       "..            ...                                                ...   \n",
       "897            []                                Introduction of GPS   \n",
       "898            []                  GPS Signal (Civilian Perspective)   \n",
       "899            []                      Introduction and Applications   \n",
       "900            []         Digital  Land Surveying and Mapping(DLS&M)   \n",
       "901            []                                         Tutorial I   \n",
       "\n",
       "         videoid                                   vtt_filename  \\\n",
       "0    DJHWcb5GDKo           nptel_orig_Design-DJHWcb5GDKo.en.vtt   \n",
       "1    9obR8HGDW2w       nptel_orig__Animation-9obR8HGDW2w.en.vtt   \n",
       "2    QVGQn_ngZxI           nptel_orig_Design-QVGQn_ngZxI.en.vtt   \n",
       "3    6yeKQ4TVUpI  nptel_orig__Graphic-Design-6yeKQ4TVUpI.en.vtt   \n",
       "4    iWxlR3G14kY         nptel_orig_Paradigm-iWxlR3G14kY.en.vtt   \n",
       "..           ...                                            ...   \n",
       "897  r5oiv5Rbnuw              nptel_orig_GPS-r5oiv5Rbnuw.en.vtt   \n",
       "898  biY4CZso0gs     nptel_orig_Perspective)-biY4CZso0gs.en.vtt   \n",
       "899  cAXa2Tc5sbk     nptel_orig_Applications-cAXa2Tc5sbk.en.vtt   \n",
       "900  1UlEtjO5SMw   nptel_orig_Mapping(DLS&M)-1UlEtjO5SMw.en.vtt   \n",
       "901  dPnDu2yh6fo                nptel_orig_I-dPnDu2yh6fo.en.vtt   \n",
       "\n",
       "                                           vtt_Content  \n",
       "0    Language: en welcome students to the online np...  \n",
       "1    Language: en hello students welcome to the n p...  \n",
       "2    Language: en welcome stu ah students for the o...  \n",
       "3    Language: en welcome students to the online n ...  \n",
       "4    Language: en welcome students to the online n ...  \n",
       "..                                                 ...  \n",
       "897  Language: en welcome students this is the four...  \n",
       "898  Language: en welcome students today is the fif...  \n",
       "899  Language: en welcome students this is the firs...  \n",
       "900  Language: en\\nStyle:\\n::cue(c.colorCCCCCC) { c...  \n",
       "901  Language: en\\nStyle:\\n::cue(c.colorCCCCCC) { c...  \n",
       "\n",
       "[902 rows x 9 columns]"
      ]
     },
     "execution_count": 4,
     "metadata": {},
     "output_type": "execute_result"
    }
   ],
   "source": [
    "nptel_raw_data"
   ]
  },
  {
   "cell_type": "code",
   "execution_count": 5,
   "metadata": {},
   "outputs": [
    {
     "name": "stdout",
     "output_type": "stream",
     "text": [
      "Requirement already satisfied: nltk in /usr/local/lib/python3.8/site-packages (3.5)\n",
      "Requirement already satisfied: regex in /usr/local/lib/python3.8/site-packages (from nltk) (2020.9.27)\n",
      "Requirement already satisfied: tqdm in /usr/local/lib/python3.8/site-packages (from nltk) (4.50.0)\n",
      "Requirement already satisfied: click in /usr/local/lib/python3.8/site-packages (from nltk) (6.7)\n",
      "Requirement already satisfied: joblib in /usr/local/lib/python3.8/site-packages (from nltk) (0.17.0)\n"
     ]
    }
   ],
   "source": [
    "!pip3 install nltk\n",
    "# Explicitely downloaded stopwords using: python3 -m nltk.downloader stopwords"
   ]
  },
  {
   "cell_type": "markdown",
   "metadata": {},
   "source": [
    "## Data Preprocessing\n",
    "\n",
    "### Stemming\n",
    "#### With stemming, words are reduced to their word stems. A word stem need not be the same root as a dictionary-based morphological root, it just is an equal to or smaller form of the word.\n",
    "#### Can be improved further by lemmatization"
   ]
  },
  {
   "cell_type": "code",
   "execution_count": 6,
   "metadata": {},
   "outputs": [],
   "source": [
    "import nltk\n",
    "import string\n",
    "import re\n",
    "porter_stemmer = nltk.stem.porter.PorterStemmer()\n",
    "\"\"\"\n",
    "This function is basically used for stemming\n",
    "\"\"\"\n",
    "def porter_tokenizer(text, stemmer=porter_stemmer):\n",
    "    tokens = nltk.wordpunct_tokenize(text)\n",
    "    stems = [porter_stemmer.stem(t) for t in tokens]\n",
    "    no_punct = [s for s in stems if re.match('^[a-zA-Z]+$', s) is not None]\n",
    "    return no_punct"
   ]
  },
  {
   "cell_type": "code",
   "execution_count": null,
   "metadata": {},
   "outputs": [],
   "source": [
    "vtt_content=nptel_raw_data.vtt_Content.tolist()\n",
    "stemmed_vtt_content=[] \n",
    "#stemming each word for each row of vtt_description of videos\n",
    "for eachcontent in vtt_content:\n",
    "    eachcontent=eachcontent.lower()\n",
    "    #In case python 2, or if need utf-8 decoding error encountered,use: eachcontent=eachcontent.lower().decode('utf-8')\n",
    "    tokenized=porter_tokenizer(eachcontent)\n",
    "    preprocessed=' '.join(tokenized)\n",
    "    preprocessed=preprocessed.encode('ascii','ignore')\n",
    "    stemmed_vtt_content.append(preprocessed)"
   ]
  },
  {
   "cell_type": "markdown",
   "metadata": {},
   "source": [
    "\n",
    "#### Stopwords are removed from stemmed data to get more relevant data"
   ]
  },
  {
   "cell_type": "code",
   "execution_count": null,
   "metadata": {},
   "outputs": [],
   "source": [
    "from nltk.corpus import stopwords\n",
    "\"\"\"converting stop words to ascii to prevent unicode error \n",
    "and adding some new words that intuitively could be stop words here,afetr looking at the raw data\"\"\"\n",
    "stop_words_ascii=[]\n",
    "for each in stopwords.words('english'):\n",
    "    stop_words_ascii.append(each)\n",
    "    #python2 : stop_words_ascii.append(each.encode('ascii','ignore'))\n",
    "\n",
    "stop_words_ascii.extend(['a','b','c','d','e','f','g','h','i','j','k','l','m','n','o','p','q','r','s','t','u','v','w','x','y','z'])\n",
    "stop_words_ascii.extend(['ah','uh','the','and','so','is','ok','um','ok','ha','language:','en'])\n"
   ]
  },
  {
   "cell_type": "code",
   "execution_count": null,
   "metadata": {},
   "outputs": [],
   "source": [
    "#removing stop words from stemmed vtt data\n",
    "\n",
    "filtered_words_list=[]\n",
    "i=0\n",
    "for i in range(len(stemmed_vtt_content)):\n",
    "    filtered_words=[]\n",
    "    #use simple stemmed_vtt_content[i] in python2 as in python2 we have already decoded above\n",
    "    for item in stemmed_vtt_content[i].decode(\"utf-8\").split(\" \"):\n",
    "        if item not in stop_words_ascii:\n",
    "            filtered_words.append(item)         \n",
    "    str1=\" \".join(filtered_words)\n",
    "   \n",
    "    filtered_words_list.append(str1)\n",
    "#print(\"FINAL_____________________________________________________________________\",filtered_words_list)"
   ]
  },
  {
   "cell_type": "code",
   "execution_count": null,
   "metadata": {
    "scrolled": true
   },
   "outputs": [],
   "source": [
    "#Verifying if words are stemmed and cleaned off the stop words\n",
    "filtered_words_list[0]"
   ]
  },
  {
   "cell_type": "code",
   "execution_count": null,
   "metadata": {},
   "outputs": [],
   "source": [
    "def check_frequency_of_relevant_words(filtered_words_list):\n",
    "    import collections\n",
    "    for i in range(len(filtered_words_list)):\n",
    "    #for list_1 in filtered_words_list[i].split(\" \"):\n",
    "        counter = collections.Counter(filtered_words_list[i].split(\" \"))\n",
    "        print(counter.most_common())\n",
    "\n",
    "check_frequency_of_relevant_words(filtered_words_list)"
   ]
  },
  {
   "cell_type": "markdown",
   "metadata": {},
   "source": [
    "## Bag of Words : TFIDF Application "
   ]
  },
  {
   "cell_type": "code",
   "execution_count": null,
   "metadata": {},
   "outputs": [],
   "source": [
    "from sklearn.feature_extraction.text import TfidfVectorizer\n",
    "tf = TfidfVectorizer(analyzer='word', ngram_range=(1,1), min_df = 0, stop_words = stop_words_ascii)"
   ]
  },
  {
   "cell_type": "code",
   "execution_count": null,
   "metadata": {},
   "outputs": [],
   "source": [
    "tfidf_matrix =  tf.fit_transform(filtered_words_list)\n",
    "feature_names = tf.get_feature_names() "
   ]
  },
  {
   "cell_type": "code",
   "execution_count": null,
   "metadata": {},
   "outputs": [],
   "source": [
    "len(feature_names)"
   ]
  },
  {
   "cell_type": "code",
   "execution_count": null,
   "metadata": {},
   "outputs": [],
   "source": [
    "tfidf_matrix"
   ]
  },
  {
   "cell_type": "code",
   "execution_count": null,
   "metadata": {},
   "outputs": [],
   "source": [
    "from pandas import DataFrame\n",
    "doc_id=0\n",
    "#showing 50 most important occuring words,as processed by tf-idf\n",
    "tfidf_words_list=[]\n",
    "dense=tfidf_matrix.todense()\n",
    "for i in range(len(filtered_words_list)):\n",
    "    top_n=[]\n",
    "    perVid_Transcript=dense[i].tolist()[0]\n",
    "    phrase_scores= [pair for pair in zip(range(0, len(perVid_Transcript)), perVid_Transcript) if pair[1] > 0]\n",
    "    sorted_phrase_scores=sorted(phrase_scores, key=lambda t: t[1] * -1)\n",
    "    for phrase, score in [(feature_names[word_id], score) for (word_id, score) in sorted_phrase_scores][:50]:\n",
    "        top_n.append(phrase.encode('ascii','ignore').decode(\"utf-8\"))\n",
    "        #for python 2 use: top_n.append(phrase.encode('ascii','ignore')\n",
    "        #print('{0} {1: <50} {2}'.format(i,phrase, score))\n",
    "    tfidf_words_list.append(top_n)\n",
    "    #print('\\n Document {0} :{1}'.format(i,top_n))\n",
    "#print('Final list of 50 words of all docs in one list',tfidf_words_list)"
   ]
  },
  {
   "cell_type": "code",
   "execution_count": null,
   "metadata": {},
   "outputs": [],
   "source": [
    "#adding a new column in our dataframe of top bag of words with each vtt\n",
    "nptel_raw_data['TF-IDF_top_words']=tfidf_words_list\n",
    "nptel_raw_data\n",
    "nptel_raw_data.to_csv('nptel_tfidf_labelled.csv')\n"
   ]
  }
 ],
 "metadata": {
  "kernelspec": {
   "display_name": "Python 3",
   "language": "python",
   "name": "python3"
  },
  "language_info": {
   "codemirror_mode": {
    "name": "ipython",
    "version": 3
   },
   "file_extension": ".py",
   "mimetype": "text/x-python",
   "name": "python",
   "nbconvert_exporter": "python",
   "pygments_lexer": "ipython3",
   "version": "3.8.5"
  }
 },
 "nbformat": 4,
 "nbformat_minor": 2
}
